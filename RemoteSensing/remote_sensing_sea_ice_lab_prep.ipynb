{
 "cells": [
  {
   "cell_type": "markdown",
   "id": "28d407f9",
   "metadata": {},
   "source": [
    "# An introduction to the least sqaures method\n",
    "\n",
    "## Scope\n",
    "\n",
    "In this note we will cover the basic of how to use linear algebra and the least squares method to find the optimal parameters of a model. The method is commonly used in all scientific analysis where we want to fit a set of measured data to a model. Note that this is not ment as a course in linear algebra, and alot of the math and expression used here might not refer to the exact mathematical definition, for a rigid derivation of the least squares method we reffer you to a dedicated linear algebra textbook. \n",
    "\n",
    "\n"
   ]
  },
  {
   "cell_type": "markdown",
   "id": "500218dc",
   "metadata": {},
   "source": [
    "## Forward and inverse models in remote sensing\n",
    "\n",
    "In remote sensing the measurements we get of a geophysical variable are often indirect. We measure radiation at some distance and want to find a method to excract some variable e.g. Temperature from this measurement. To do this we often start by figuring out how the radiation we measure relates to the variable, *x*, we want to deterime. This is called the *forward model*, $f(x)$. Denoting the radiation we measure $y$, we can write the relationship as an equation \n",
    "\n",
    "\\begin{equation}\n",
    "    y=f(x)\n",
    "\\end{equation}\n",
    "\n",
    "The model itself can be derived from physical principles or be a statistical model based on empirical measurements, the exact formulation is not important for the concept itself. \n",
    "\n",
    "Now that we have determined a relationship between the variable we want to find and the radiation we measure, we now need to find the inverse of this model, $f^{-1}(x)$ which we can then use to to *retrieve* the value $x$ based on a measurement $y$\n",
    "\n",
    "\\begin{equation}\n",
    "    x=f^{-1}(y)\n",
    "\\end{equation}\n",
    "\n",
    "In the computer lab connected to this note you will derive such an inverse model for sea-ice retrieval from a microwave radiometer. However, we are going to do this using the framework of linear algebra, so this note is made to give you a short review on how to do regression using linear algebra. This note is not a deep dive into linear algebra, and it is expected that you are allready somewhat familiar with concepts like *matrices* and *vectors* and how to solve equations using these tools. If you feel like you need a recap of this, its reccomended to look up in your favourite linear algebra textbook or online video and do a few excercises yourself.\n"
   ]
  },
  {
   "cell_type": "markdown",
   "id": "1c4b645d",
   "metadata": {},
   "source": [
    "# Solving equations using linear algebra\n",
    "\n",
    "We are now going to have a short look at how to use matrices to solve equations. First I want you to try and solve the equation below:\n",
    "\\begin{align}\n",
    "16 &= 3x_1 + 2x_2 \\\\\n",
    "6  & = x_1 + x_2\n",
    "\\end{align}\n",
    "type in the answer in the function called \"problem_1\" below to see if you got it correct. \n",
    "\n",
    "## Problem 1"
   ]
  },
  {
   "cell_type": "code",
   "execution_count": 1,
   "id": "561be9eb",
   "metadata": {},
   "outputs": [
    {
     "name": "stdout",
     "output_type": "stream",
     "text": [
      "Sorry wrong, try again\n"
     ]
    }
   ],
   "source": [
    "from solutions import problem_1\n",
    "\n",
    "#type in your answer here to check if you are correct\n",
    "x_1 = \n",
    "x_2 = \n",
    "problem_1(x_1,x_2)"
   ]
  },
  {
   "cell_type": "markdown",
   "id": "c4de193b",
   "metadata": {},
   "source": [
    "## Using matrices\n",
    "\n",
    "This equation was quite a short and simple one, and perhaps you solved it by substitution or some clever algebra. In reality we often end up sovling a set of equations with many more unknowns and in this case we need some way to systemize how to solve large equations. For this we use matrices. Imagine we want to solve the set of equations\n",
    "\\begin{align}\n",
    "9 &= x_1 + x_2 + x_3 \\\\\n",
    "x_4 &= x_2+x_3 - 3 \\\\\n",
    "18 & = 2x_4+x_5 \\\\\n",
    "0 & = x_2+x_3-x_4 \\\\\n",
    "9 & = 2x_1 + x_2+x_5 \\\\\n",
    "\\end{align}\n",
    "to find $x_1,...,x_5$, how do we do it?\n",
    "\n",
    "First step is to go from a set of equations to a problem of $vectors$ and $matrices$, such that the problem can be expressed as:\n",
    "\n",
    "\\begin{equation}\n",
    "\\vec{y} = \\textbf{K} \\vec{x},\n",
    "\\end{equation}\n",
    "\n",
    "where $\\vec{y}$ and $\\vec{x}$, are *columnvectors* and $\\textbf{K}$ is a *matrix*. Considering the algebra of matrix and vector multiplication (https://en.wikipedia.org/wiki/Matrix_multiplication) we can write the equations above as:\n",
    "\\begin{equation}\n",
    "\\begin{pmatrix}\n",
    "    9 \\\\\n",
    "    3 \\\\\n",
    "    18 \\\\\n",
    "    0 \\\\\n",
    "    9\n",
    "\\end{pmatrix} = \\begin{pmatrix}\n",
    "    1 & 1 & 1 & 0 & 0 \\\\\n",
    "    0 & 2 & 1 & -1 & 0 \\\\\n",
    "    0 & 0 & 0 & 2 & 1 \\\\\n",
    "    0 & 1 & 1 & -1 & 0 \\\\\n",
    "    2 & 1 & 0 & 0 & 1\n",
    "\\end{pmatrix}\\begin{pmatrix}\n",
    "    x_1 \\\\\n",
    "    x_2 \\\\\n",
    "    x_3 \\\\\n",
    "    x_4 \\\\\n",
    "    x_5\n",
    "\\end{pmatrix}\n",
    "\\end{equation}\n",
    "As an excercise you can check the first (or any other) row manually if you want to get a better feeling for how the conversion from set of equations to matrix formulation is done. \n",
    "\n",
    "The solution can then found by finding the *inverse* of the matrix and multiplying it from the left **(remember that matrix multiplication is not commutative)** at both sides of the equation. \n",
    "\n",
    "\\begin{align}\n",
    "\\vec{y} & = \\textbf{K} \\vec{x} \\\\\n",
    "\\textbf{K}^{-1}\\vec{y} & = \\textbf{K}^{-1}\\textbf{K} \\vec{x}, \\\\\n",
    "\\textbf{K}^{-1}\\vec{y} & = \\vec{x}.\n",
    "\\end{align}\n",
    "\n",
    "There are many ways to calculate the inverse manually, but we will use the computer to help us. Below is a piece of code which solved the equation above using a python library called numpy. \n"
   ]
  },
  {
   "cell_type": "code",
   "execution_count": 2,
   "id": "2b55f6a3",
   "metadata": {},
   "outputs": [
    {
     "name": "stdout",
     "output_type": "stream",
     "text": [
      "[2. 5. 2. 9. 0.]\n"
     ]
    }
   ],
   "source": [
    "import numpy as np #import python library for numerics\n",
    "\n",
    "y = np.array([9,3,18,0,9])\n",
    "\n",
    "K = np.array([[1,1,1,0,0],[0,2,1,-1,0],[0,0,0,2,1],[1,1,1,-1,0],[2,1,0,0,1]]\n",
    ")\n",
    "\n",
    "Kinv = np.linalg.inv(K)\n",
    "\n",
    "x = np.dot(Kinv,y)\n",
    "print(x)"
   ]
  },
  {
   "cell_type": "markdown",
   "id": "1ee4a243",
   "metadata": {},
   "source": [
    "we thus find \n",
    "\n",
    "\\begin{equation}\n",
    "\\vec{x} = \\begin{pmatrix}\n",
    "    x_1 \\\\\n",
    "    x_2 \\\\\n",
    "    x_3 \\\\\n",
    "    x_4 \\\\\n",
    "    x_5\n",
    "\\end{pmatrix} = \\begin{pmatrix}\n",
    "    3 \\\\\n",
    "    5 \\\\\n",
    "    2 \\\\\n",
    "    9 \\\\\n",
    "    0\n",
    "\\end{pmatrix}\n",
    "\\end{equation}"
   ]
  },
  {
   "cell_type": "markdown",
   "id": "2ed42953",
   "metadata": {},
   "source": [
    "## Problem 2\n",
    "\n",
    "Solve the following se of equations using matrix algebra\n",
    "\n",
    "\\begin{align}\n",
    "9 &= x_1 + x_2 + x_3 \\\\\n",
    "0 &= x_2+x_3 - 3 \\\\\n",
    "18 - x_2 & = 2x_1 \\\\\n",
    "\\end{align}\n",
    "\n",
    "insert the solution in the function below to see if you have the correct answer:"
   ]
  },
  {
   "cell_type": "code",
   "execution_count": 3,
   "id": "cef2b68e",
   "metadata": {},
   "outputs": [
    {
     "ename": "SyntaxError",
     "evalue": "invalid syntax (4076812488.py, line 4)",
     "output_type": "error",
     "traceback": [
      "\u001b[0;36m  Input \u001b[0;32mIn [3]\u001b[0;36m\u001b[0m\n\u001b[0;31m    x_1 =\u001b[0m\n\u001b[0m          ^\u001b[0m\n\u001b[0;31mSyntaxError\u001b[0m\u001b[0;31m:\u001b[0m invalid syntax\n"
     ]
    }
   ],
   "source": [
    "from solutions import problem_2\n",
    "\n",
    "#type your code here\n",
    "\n",
    "#type in your answer here to check if you are correct\n",
    "x_1 = \n",
    "x_2 = \n",
    "x_3 = \n",
    "problem_2(x_1,x_2,x_3)"
   ]
  },
  {
   "cell_type": "markdown",
   "id": "04d21fac",
   "metadata": {},
   "source": [
    "## Over-determined systems\n",
    "\n",
    "A matrix which has an inverse is called *invertible*. One requirement is that it needs to be square (nxn), and that non of the rows are linearly dependend, if one or more of the rows are linearly dependent the matrix is said to be *singular*. There are many ways of checking whether a matrix is invertible, and somtimes you can even convert a non-square matrix to a square one to make it invertible, for details around this check your linear-algebra book. \n",
    "\n",
    "We can say that a system of equation is *under-determined* if there are less linearly independent equations that there are variables to solve for, and *over-determined* if there are more equations than variables. \n",
    "\n",
    "The latter is often the case in real life if we do measurement of a variable $x$, and we perform several measurements of the variable $y$. Since we have noise in the data, each measurement $y_i$ is often a bit different and we need a method to determine the best fit $\\hat{x}$ based on our measurements. \n",
    "\n",
    "In the simplest form the relationship between the variable $x$ and the measurement $y$ is unity (i.e. 1), and we can find the most probable value for $x$ as the mean of all the measurements.\n",
    "\\begin{equation}\n",
    "\\hat{x} = \\frac{1}{N} \\sum_n y_n\n",
    "\\end{equation}\n",
    "\n",
    "In remote rensing this is called *retrieving* $x$ from a set of measurement $y$. In terms of the forward and inverse model we discussed before, the forward model for the problem is simply\n",
    "\\begin{equation}\n",
    "y_i = f(x) = 1 \\cdot x, \n",
    "\\end{equation}\n",
    "where $y_i$ is measurement number $i$, and the inverse $f^{-1}(x)$ is just given by the sum to get the mean. \n",
    "\n",
    "If we for example have a set of five measurements [9,10,8,9,8] we can take the mean using the code below:"
   ]
  },
  {
   "cell_type": "code",
   "execution_count": 5,
   "id": "c223afcc",
   "metadata": {},
   "outputs": [
    {
     "name": "stdout",
     "output_type": "stream",
     "text": [
      "The mean is: 8.8\n"
     ]
    }
   ],
   "source": [
    "import numpy as np #import python library for numerics\n",
    "\n",
    "y = np.array([9,10,8,9,8])\n",
    "x_hat = np.mean(y)\n",
    "print('The mean is: ' + str(x_hat))"
   ]
  },
  {
   "cell_type": "markdown",
   "id": "63492b01",
   "metadata": {},
   "source": [
    "However in remote sensing the are often much more complicated with several unknown variables interacting to produce the final value. Thus rather than simply taking the mean as we did above, its nice to once again use linear algebra to formulate our problem. $\\vec{y}$ is now a vector holding all our measurements (called *measurement vector*), $\\vec{x}$ (called the *state vector*) is the true value of the variable(s) we want to retrieve and $\\textbf{K}$ the forward model expressed as a matrix (also called the *linearized-forward model*, *jacobian* or *weighting function matrix*). \n",
    "\n",
    "\\begin{equation}\n",
    "\\vec{y} = \\textbf{K} \\vec{x},\n",
    "\\end{equation}\n",
    "\n",
    "The expression become the following: \n",
    "\n",
    "\\begin{equation}\n",
    "\\vec{x} = \\begin{pmatrix}\n",
    "    y_1 \\\\\n",
    "    y_2 \\\\\n",
    "    y_3 \\\\\n",
    "    y_4 \\\\\n",
    "    y_5\n",
    "\\end{pmatrix} = \\begin{pmatrix}\n",
    "    1 \\\\\n",
    "    1 \\\\\n",
    "    1 \\\\\n",
    "    1 \\\\\n",
    "    1\n",
    "\\end{pmatrix}\\begin{pmatrix}\n",
    "    x\n",
    "\\end{pmatrix}\n",
    "\\end{equation}\n",
    "\n",
    "## Problem 3 \n",
    "\n",
    "What would $\\textbf{K}$ be if the forward model was $y = 3x$ instead? Enter the answer in the code below to check your understanding. "
   ]
  },
  {
   "cell_type": "code",
   "execution_count": 6,
   "id": "c7eab3eb",
   "metadata": {},
   "outputs": [
    {
     "name": "stdout",
     "output_type": "stream",
     "text": [
      "Sorry wrong, try again\n"
     ]
    }
   ],
   "source": [
    "import numpy as np #import python library for numerics\n",
    "from solutions import problem_3\n",
    "\n",
    "K = np.array([[],[],[],[],[]]) #write in answer here\n",
    "problem_3(K)"
   ]
  },
  {
   "cell_type": "markdown",
   "id": "1e580614",
   "metadata": {},
   "source": [
    "## Least-squares method\n",
    "\n",
    "So now we have formulated the forward model in the language of linear algebra, but we somehow need to find x? Since we have more equations than variables, and the equations are not consistent with each other the system is over-determined and we need to find some way to estimate the best fit $x$ rather than the exact solution. One common method is to use something called a pseudo-inverse (remember inverses can only be taken from square matrices which is not the case here). This pseudo-inverse, often written $\\textbf{K}^\\dagger$ can be found by recognizing that we can isolate $x$ through some matrix algebra manipulation of the linearized forward model equation. \n",
    "\n",
    "\\begin{align*}\n",
    "\\vec{y} & = \\textbf{K} \\vec{x} \\\\\n",
    "\\textbf{K}^T\\vec{y} & = \\textbf{K}^T\\textbf{K} \\vec{x} \\\\\n",
    "(\\textbf{K}^T\\textbf{K})^{-1}\\textbf{K}^T\\vec{y} & = (\\textbf{K}^T\\textbf{K})^{-1}\\textbf{K}^T\\textbf{K} \\vec{x} \\\\\n",
    "(\\textbf{K}^T\\textbf{K})^{-1}\\textbf{K}^T\\vec{y} & = \\vec{x}, \\\\\n",
    "\\hat{\\vec{x}}& = \\textbf{K}^\\dagger\\vec{y},\n",
    "\\end{align*}\n",
    "\n",
    "Here we use the fact that $(\\textbf{K}^T\\textbf{K})$ is a square matrix and has an inverse and that $(\\textbf{K}^T\\textbf{K})^{-1}(\\textbf{K}^T\\textbf{K}) = \\textbf{I}$, where $\\textbf{I}$ is the identity matrix. In the final line we also add a ^ to the $\\vec{x}$ to stress that its not the exact to the equations we have found (in fact there exists no exact solution), but a best estimate of $\\vec{x}$. This method of generating the pseudoinverse is called *least-squares method*, and is often used in statistical analysis. \n",
    "\n",
    "Note that algebra above can be motivated by looking at what value of $\\vec{x}$ minimizes the *residual* $|\\vec{y}-\\textbf{K}\\vec{x}|$, however for details on the derivation check out a book on linear algebra or https://en.wikipedia.org/wiki/Ordinary_least_squares.\n",
    "\n",
    "If we apply the method on the the example we had above, we can calculate $\\hat{\\vec{x}}$ using the code below:\n"
   ]
  },
  {
   "cell_type": "code",
   "execution_count": 13,
   "id": "7f426a5b",
   "metadata": {},
   "outputs": [
    {
     "name": "stdout",
     "output_type": "stream",
     "text": [
      "The least squares solution is: [8.8]\n"
     ]
    }
   ],
   "source": [
    "y = np.array([9,10,8,9,8])\n",
    "K = np.array([[1],[1],[1],[1],[1]])\n",
    "KtK = np.dot(K.T,K)\n",
    "KtK_inv = np.linalg.inv(KtK)\n",
    "Kinv = np.dot(KtK_inv,K.T)\n",
    "x_hat = np.dot(Kinv,y)\n",
    "print('The least squares solution is: ' + str(x_hat))"
   ]
  },
  {
   "cell_type": "markdown",
   "id": "dbb959d6",
   "metadata": {},
   "source": [
    "## Problem 4\n",
    "\n",
    "Using the fact that the inverse of a scalar $a$ is just $\\frac{1}{a}$, show that the pseudo inverse becomes the mean of the measurement vector for the trivial case where the forward model is $y=x$."
   ]
  },
  {
   "cell_type": "markdown",
   "id": "d562d43c",
   "metadata": {},
   "source": [
    "## A more realistic case\n",
    "\n",
    "For the trivial examples above, the algerbra might seem a bit overkill. But now we will look at a more realistic case closer to the problems we face in remote sensing. \n",
    "\n",
    "### Determining the temperature lapse rate\n",
    "\n",
    "Let us assume that the temperature in the atmosphere has a constant lapse rate, i.e. that it decreases in a linear fashion with altitude. A linear lapse rate can be defined by two variables $x_1$ and $x_2$ such that the temperature, $T$, at an altitude (in km), $z$, is given as\n",
    "\\begin{equation}\n",
    "T(z) = x_1 z + x_2.\n",
    "\\end{equation}\n",
    "\n",
    "Our instrument can measure the temperature at 8 different altitudes (0.1,1,2,4,6,12,5.5) km and the inverse problem becomes to *determine the lapse rate based on a set of temperature measurements*. In the code below we run a simulation which can generate the temperatures at these altitudes. \n",
    "\n",
    "In this case our measurement vector $\\vec{y}$ becomes the temperature at each altitude, and the state vector $\\vec{x} = [x_1,x_2]^T$. Our forward model for each measurement $i$ is:\n",
    "\\begin{equation}\n",
    "y_i = x_1 z + x_2 = [z_i,1][x_1,x_2]^T\n",
    "\\end{equation}\n",
    "Tabulating this out for the measured altitudes, the matrix problem becomes:\n",
    "\n",
    "\\begin{equation}\n",
    "\\begin{pmatrix}\n",
    "    y_1 \\\\\n",
    "    y_2 \\\\\n",
    "    y_3 \\\\\n",
    "    y_4 \\\\\n",
    "    y_5 \\\\\n",
    "    y_6 \\\\\n",
    "    y_7\n",
    "\\end{pmatrix} = \\begin{pmatrix}\n",
    "    0.1 & 1 \\\\\n",
    "    1 & 1 \\\\\n",
    "    2 & 1 \\\\\n",
    "    4 & 1 \\\\\n",
    "    6 & 1 \\\\\n",
    "    12 & 1 \\\\\n",
    "    5.5 & 1     \n",
    "\\end{pmatrix}\\begin{pmatrix}\n",
    "    x_1 \\\\\n",
    "    x_2 \n",
    "\\end{pmatrix}\n",
    "\\end{equation}\n",
    "\n",
    "\n",
    "To generate the measured data we use a piece of simulation code below (the temperature function from the solution module)"
   ]
  },
  {
   "cell_type": "code",
   "execution_count": 3,
   "id": "f01288b3",
   "metadata": {},
   "outputs": [
    {
     "name": "stdout",
     "output_type": "stream",
     "text": [
      "[[ 22.28389331]\n",
      " [ 16.30573662]\n",
      " [  8.89100275]\n",
      " [ -3.09403524]\n",
      " [-17.36678825]\n",
      " [-54.28783871]\n",
      " [-13.04465161]]\n"
     ]
    }
   ],
   "source": [
    "from solutions import temperature\n",
    "import numpy as np\n",
    "\n",
    "z = np.array([[0.1],[1],[2],[4],[6],[12],[5.5]]) #altitude in km\n",
    "y = temperature(z)\n",
    "print(y)"
   ]
  },
  {
   "cell_type": "markdown",
   "id": "bb229edb",
   "metadata": {},
   "source": [
    "We now want to find the lapse rate. To do this we use the pseudoinverse"
   ]
  },
  {
   "cell_type": "code",
   "execution_count": 16,
   "id": "f251ba01",
   "metadata": {},
   "outputs": [
    {
     "name": "stdout",
     "output_type": "stream",
     "text": [
      "The estimated lapse rate is [-6.66801712]\n",
      "The estimated surface temperature is [22.78731855]\n"
     ]
    }
   ],
   "source": [
    "K = np.array([[0.1,1],[1,1],[2,1],[4,1],[6,1],[12,1],[5.5,1]])\n",
    "KtK = np.dot(K.T,K)\n",
    "Kinv = np.dot(np.linalg.inv(KtK),K.T)\n",
    "x_hat = np.dot(Kinv,y)\n",
    "print(\"The estimated lapse rate is \" + str(x_hat[0]))\n",
    "print(\"The estimated surface temperature is \" + str(x_hat[1]))"
   ]
  },
  {
   "cell_type": "markdown",
   "id": "5a9673bf",
   "metadata": {},
   "source": [
    "And we can plot the measurement and the estimation to see that there is good agreement between them"
   ]
  },
  {
   "cell_type": "code",
   "execution_count": 17,
   "id": "d46d7869",
   "metadata": {},
   "outputs": [
    {
     "data": {
      "text/plain": [
       "Text(0.5, 1.0, 'Figure 1: Measured and fitted lapse rate')"
      ]
     },
     "execution_count": 17,
     "metadata": {},
     "output_type": "execute_result"
    },
    {
     "data": {
      "image/png": "[encoded data removed]",
      "text/plain": [
       "<Figure size 640x480 with 1 Axes>"
      ]
     },
     "metadata": {},
     "output_type": "display_data"
    }
   ],
   "source": [
    "from matplotlib import pyplot as plt\n",
    "\n",
    "y_estimate = z*x_hat[0]+x_hat[1] #y based on the estimated x_hat\n",
    "\n",
    "plt.plot(y_estimate,z,'--')\n",
    "plt.plot(y,z,'.')\n",
    "plt.xlabel('Temp (C)')\n",
    "plt.ylabel('Altitude (km)')\n",
    "plt.title('Figure 1: Measured and fitted lapse rate')"
   ]
  },
  {
   "cell_type": "markdown",
   "id": "3bcf748a",
   "metadata": {},
   "source": [
    "Another interesting property to plot is the accuracy of the fit, or *residuals* $\\vec{y} - \\textbf{K}\\vec{\\hat{x}}$. In this case we see a variability of a few degrees indicating some noise (or natural variability) in the data. One thing to notice is that we **Ideally we want the residual to look like random gaussian noise** for a successfull retrieval. "
   ]
  },
  {
   "cell_type": "code",
   "execution_count": 18,
   "id": "7d92c0dc",
   "metadata": {},
   "outputs": [
    {
     "data": {
      "text/plain": [
       "Text(0.5, 1.0, 'Figure 2: Residual of temperature fit')"
      ]
     },
     "execution_count": 18,
     "metadata": {},
     "output_type": "execute_result"
    },
    {
     "data": {
      "image/png": "[encoded data removed]",
      "text/plain": [
       "<Figure size 640x480 with 1 Axes>"
      ]
     },
     "metadata": {},
     "output_type": "display_data"
    }
   ],
   "source": [
    "from matplotlib import pyplot as plt\n",
    "\n",
    "y_estimate = z*x_hat[0]+x_hat[1] #y based on the estimated x_hat\n",
    "\n",
    "plt.plot(y-y_estimate,z,'.')\n",
    "plt.plot([0,0],[0,12],'k--')\n",
    "plt.xlabel('Temp error (C)')\n",
    "plt.ylabel('Altitude (km)')\n",
    "plt.title('Figure 2: Residual of temperature fit')\n"
   ]
  },
  {
   "cell_type": "markdown",
   "id": "480eb7b4",
   "metadata": {},
   "source": [
    "## Problem 5\n",
    "\n",
    "Write code below that redo the retrieval from above except for the fact that the measurements are now taken at altitudes [0,5,10,3,2,6] km and reproduce Figure 1."
   ]
  },
  {
   "cell_type": "code",
   "execution_count": 10,
   "id": "bba47a6f",
   "metadata": {},
   "outputs": [],
   "source": [
    "#Write your code here\n",
    "#\n",
    "#\n",
    "#\n",
    "#\n"
   ]
  },
  {
   "cell_type": "markdown",
   "id": "ca2360ac",
   "metadata": {},
   "source": [
    "## So how do I find the jacobian?\n",
    "\n",
    "Now in the examples above it has been possile to figure out the jacobian matrix by simple inspection, however if we want to generalize this we need a more formal way of doing it. In fact the formal definition of a jacobian matrix for a set of equations is actually given by\n",
    "\\begin{equation}\n",
    "    \\textbf{K}_{i,j} = \\frac{\\partial y_i}{\\partial x_j}\n",
    "\\end{equation}\n",
    "\n",
    "So from the temperature lapse rate example we had\n",
    "\\begin{equation}\n",
    "   y_1 = 0.1x_1+x_2,\n",
    "\\end{equation}\n",
    "and thus\n",
    "\\begin{align}\n",
    "   \\frac{\\partial y_1}{\\partial x_1} &= 0.1,\\\\\n",
    "   \\frac{\\partial y_1}{\\partial x_2} &= 1,\n",
    "\\end{align}\n",
    "\n",
    "and we can see that this matches the corresponing entries in $\\textbf{K}$."
   ]
  },
  {
   "cell_type": "markdown",
   "id": "59aeafa9",
   "metadata": {},
   "source": [
    "## Problem 6\n",
    "\n",
    "Looking at the lapserate measurements above, we no longer assume that the temperature has a linear-lapse rate but a quadratic one. Our forward model then becomes\n",
    "\\begin{equation}\n",
    "T(z) = x_1 z^2 + x_2 z + x_3,\n",
    "\\end{equation}\n",
    "where once again $z$ is the altitude above ground in km. \n",
    "\n",
    "Now its you task to find the weighting function (i.e. a row of the jacobian matrix) for an altitude of 3 km and write it into the function below."
   ]
  },
  {
   "cell_type": "code",
   "execution_count": 11,
   "id": "588877ed",
   "metadata": {},
   "outputs": [
    {
     "name": "stdout",
     "output_type": "stream",
     "text": [
      "Sorry wrong, try again\n"
     ]
    }
   ],
   "source": [
    "import numpy as np #import python library for numerics\n",
    "from solutions import problem_5\n",
    "\n",
    "K_3 = np.array([[],[],[]]) #write in answer here\n",
    "problem_5(K_3)"
   ]
  },
  {
   "cell_type": "markdown",
   "id": "f9f9b128",
   "metadata": {},
   "source": [
    "## Final comments\n",
    "\n",
    "Nice, if you made it through this note and solved the problems you are on a good way of understanding how we actually can get geophysical data from remote measurements! \n",
    "\n",
    "The examples here are a bit artificial and constructed to be able to follow the arthimatic by hand. In the lab we will look at a more realistic case when we will create a software which can detect sea-ice change from measurements from a radiometer on board a satellite! \n",
    "\n",
    "See you there!"
   ]
  },
  {
   "cell_type": "code",
   "execution_count": null,
   "id": "8f2f1cb7",
   "metadata": {},
   "outputs": [],
   "source": []
  }
 ],
 "metadata": {
  "kernelspec": {
   "display_name": "Python 3 (ipykernel)",
   "language": "python",
   "name": "python3"
  },
  "language_info": {
   "codemirror_mode": {
    "name": "ipython",
    "version": 3
   },
   "file_extension": ".py",
   "mimetype": "text/x-python",
   "name": "python",
   "nbconvert_exporter": "python",
   "pygments_lexer": "ipython3",
   "version": "3.10.6"
  }
 },
 "nbformat": 4,
 "nbformat_minor": 5
}
